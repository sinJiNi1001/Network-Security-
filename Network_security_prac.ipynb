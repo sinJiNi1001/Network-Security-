{
  "nbformat": 4,
  "nbformat_minor": 0,
  "metadata": {
    "colab": {
      "provenance": []
    },
    "kernelspec": {
      "name": "python3",
      "display_name": "Python 3"
    },
    "language_info": {
      "name": "python"
    }
  },
  "cells": [
    {
      "cell_type": "code",
      "execution_count": 22,
      "metadata": {
        "colab": {
          "base_uri": "https://localhost:8080/"
        },
        "id": "rLp7JQYE1U3D",
        "outputId": "a9e5b970-8e82-4226-caef-072a2b1aadea"
      },
      "outputs": [
        {
          "output_type": "stream",
          "name": "stdout",
          "text": [
            "Requirement already satisfied: bcrypt in /usr/local/lib/python3.11/dist-packages (4.2.1)\n",
            "Enter your password: Sinu@123!!!\n",
            "Password Strength: 75% Secure\n",
            "Password Length: Strong Password\n",
            "Pasword stored securely\n"
          ]
        }
      ],
      "source": [
        "!pip install bcrypt\n",
        "import bcrypt\n",
        "import ssl\n",
        "import socket\n",
        "\n",
        "def hash_password(password):\n",
        "    salt = bcrypt.gensalt()\n",
        "    hashed = bcrypt.hashpw(password.encode(), salt)\n",
        "    return hashed\n",
        "\n",
        "def check_password(password, hashed):\n",
        "    return bcrypt.checkpw(password.encode(), hashed)\n",
        "\n",
        "def password_strength(password):\n",
        "    if password.isdigit():\n",
        "        return \"25% Secure\"\n",
        "    elif password.isalnum():\n",
        "        return \"50% Secure\"\n",
        "    elif any(c.islower() for c in password) and any(c.isupper() for c in password) and any(c.isdigit() for c in password):\n",
        "        return \"75% Secure\"\n",
        "    elif any(c.islower() for c in password) and any(c.isupper() for c in password) and any(c.isdigit() for c in password) and any(not c.isalnum() for c in password):\n",
        "        return \"100% Secure\"\n",
        "    else:\n",
        "        return \"Weak Password\"\n",
        "\n",
        "def Password_length(password):\n",
        "    if len(password) < 8:\n",
        "        return \"Weak Password\"\n",
        "    elif len(password) > 13:\n",
        "        return \"Limit exceeded\"\n",
        "    else:\n",
        "        return \"Strong Password\"\n",
        "\n",
        "\n",
        "try:\n",
        "    password = input(\"Enter your password: \")  # Taking password input from user\n",
        "    print(\"Password Strength:\", password_strength(password))\n",
        "    print(\"Password Length:\", Password_length(password))\n",
        "    hashed_password = hash_password(password)\n",
        "\n",
        "    if 8<= len(password) <13:\n",
        "      print(\"Pasword stored securely\")\n",
        "    else:\n",
        "      print(\"Password needs 8-12 characters\")\n",
        "\n",
        "\n",
        "\n",
        "\n",
        "\n",
        "except ValueError as e:\n",
        "    print(\"Error:\", e)"
      ]
    },
    {
      "cell_type": "code",
      "source": [
        "'''def secure_socket_communication(message, server_address):\n",
        "    context = ssl.create_default_context(ssl.Purpose.SERVER_AUTH)\n",
        "    with socket.create_connection(server_address) as sock:\n",
        "        with context.wrap_socket(sock, server_hostname=server_address[0]) as ssock:\n",
        "            ssock.sendall(message.encode())\n",
        "            response = ssock.recv(1024)\n",
        "            print(\"Received:\", response.decode())'''"
      ],
      "metadata": {
        "id": "czcqR6e-8hTu"
      },
      "execution_count": null,
      "outputs": []
    }
  ]
}