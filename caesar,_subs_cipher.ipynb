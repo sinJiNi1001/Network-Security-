{
  "nbformat": 4,
  "nbformat_minor": 0,
  "metadata": {
    "colab": {
      "provenance": []
    },
    "kernelspec": {
      "name": "python3",
      "display_name": "Python 3"
    },
    "language_info": {
      "name": "python"
    }
  },
  "cells": [
    {
      "cell_type": "code",
      "execution_count": null,
      "metadata": {
        "colab": {
          "base_uri": "https://localhost:8080/"
        },
        "id": "Q9XfBBCJ19t7",
        "outputId": "ed5b11e1-8774-47ee-c9f0-769d823647da"
      },
      "outputs": [
        {
          "output_type": "stream",
          "name": "stdout",
          "text": [
            "Enter the text to encrypt: HELLOWORLD\n",
            "Enter the Caesar cipher key (0-25): 3\n",
            "Encrypted Text: KHOORZRUOG\n",
            "Decrypted Text: HELLOWORLD\n"
          ]
        }
      ],
      "source": [
        "#Caesar cipher\n",
        "\n",
        "# Step 1: Define the ALPHABET string (Only uppercase letters)\n",
        "ALPHABET = \"ABCDEFGHIJKLMNOPQRSTUVWXYZ\"\n",
        "\n",
        "# Step 2: Function to encrypt using Caesar Cipher\n",
        "def encrypt(plain_text, key):\n",
        "    cipher_text = \"\"\n",
        "\n",
        "    for char in plain_text:\n",
        "        if char.upper() in ALPHABET:  # Process only letters\n",
        "            plain_numeric = ALPHABET.index(char.upper())  # Get index of character\n",
        "            cipher_numeric = (plain_numeric + key) % 26  # Apply encryption formula\n",
        "            cipher_char = ALPHABET[cipher_numeric]  # Get encrypted character\n",
        "\n",
        "            # Maintain case (uppercase/lowercase)\n",
        "            cipher_text += cipher_char if char.isupper() else cipher_char.lower()\n",
        "        else:\n",
        "            cipher_text += char  # Keep non-alphabet characters unchanged\n",
        "\n",
        "    return cipher_text\n",
        "\n",
        "# Step 3: Function to decrypt using Caesar Cipher\n",
        "def decrypt(cipher_text, key):\n",
        "    plain_text = \"\"\n",
        "\n",
        "    for char in cipher_text:\n",
        "        if char.upper() in ALPHABET:  # Process only letters\n",
        "            cipher_numeric = ALPHABET.index(char.upper())  # Get index of character\n",
        "            plain_numeric = (cipher_numeric - key) % 26  # Apply decryption formula\n",
        "\n",
        "            # If plain_numeric < 0, adjust it (Python handles modulo negatives automatically)\n",
        "            plain_char = ALPHABET[plain_numeric]  # Get decrypted character\n",
        "\n",
        "            # Maintain case (uppercase/lowercase)\n",
        "            plain_text += plain_char if char.isupper() else plain_char.lower()\n",
        "        else:\n",
        "            plain_text += char  # Keep non-alphabet characters unchanged\n",
        "\n",
        "    return plain_text\n",
        "\n",
        "# Step 4: Get user input and execute the encryption and decryption process\n",
        "plain_text = input(\"Enter the text to encrypt: \")\n",
        "key = int(input(\"Enter the Caesar cipher key (0-25): \"))\n",
        "\n",
        "# Encrypt the text\n",
        "encrypted_text = encrypt(plain_text, key)\n",
        "print(\"Encrypted Text:\", encrypted_text)\n",
        "\n",
        "# Decrypt the text\n",
        "decrypted_text = decrypt(encrypted_text, key)\n",
        "print(\"Decrypted Text:\", decrypted_text)\n"
      ]
    },
    {
      "cell_type": "code",
      "source": [
        "import random\n",
        "import string\n",
        "\n",
        "# Function to generate a random substitution key\n",
        "def generate_key():\n",
        "    alphabet = list(string.ascii_uppercase)\n",
        "    shuffled = alphabet[:]\n",
        "    random.shuffle(shuffled)  # Shuffle to create a random mapping\n",
        "    return dict(zip(alphabet, shuffled)), dict(zip(shuffled, alphabet))  # Encryption & Decryption maps\n",
        "\n",
        "# Function to encrypt a message using substitution cipher\n",
        "def encrypt(message, key):\n",
        "    message = message.upper()\n",
        "    return ''.join(key.get(char, char) for char in message)  # Substitute or keep unchanged\n",
        "\n",
        "# Function to decrypt a message using substitution cipher\n",
        "def decrypt(ciphertext, reverse_key):\n",
        "    return ''.join(reverse_key.get(char, char) for char in ciphertext)\n",
        "\n",
        "# Generate random key mapping\n",
        "key, reverse_key = generate_key()\n",
        "\n",
        "# Get user input\n",
        "message = input(\"Enter message: \")\n",
        "\n",
        "# Encrypt and decrypt\n",
        "encrypted_message = encrypt(message, key)\n",
        "decrypted_message = decrypt(encrypted_message, reverse_key)\n",
        "\n",
        "# Output results\n",
        "print(f\"\\nSubstitution Key: {key}\")\n",
        "print(f\"\\nEncrypted: {encrypted_message}\")\n",
        "print(f\"Decrypted: {decrypted_message}\")\n"
      ],
      "metadata": {
        "colab": {
          "base_uri": "https://localhost:8080/"
        },
        "id": "BE-TG7dYyho9",
        "outputId": "0fc312b3-9793-433e-8411-f8f3eff5c676"
      },
      "execution_count": null,
      "outputs": [
        {
          "output_type": "stream",
          "name": "stdout",
          "text": [
            "Enter message: HELLO\n",
            "\n",
            "Substitution Key: {'A': 'V', 'B': 'B', 'C': 'P', 'D': 'W', 'E': 'A', 'F': 'G', 'G': 'S', 'H': 'J', 'I': 'L', 'J': 'I', 'K': 'Y', 'L': 'O', 'M': 'M', 'N': 'Z', 'O': 'E', 'P': 'N', 'Q': 'T', 'R': 'C', 'S': 'K', 'T': 'Q', 'U': 'R', 'V': 'X', 'W': 'U', 'X': 'D', 'Y': 'H', 'Z': 'F'}\n",
            "\n",
            "Encrypted: JAOOE\n",
            "Decrypted: HELLO\n"
          ]
        }
      ]
    }
  ]
}