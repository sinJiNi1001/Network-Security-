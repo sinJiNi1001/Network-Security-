{
  "nbformat": 4,
  "nbformat_minor": 0,
  "metadata": {
    "colab": {
      "provenance": []
    },
    "kernelspec": {
      "name": "python3",
      "display_name": "Python 3"
    },
    "language_info": {
      "name": "python"
    }
  },
  "cells": [
    {
      "cell_type": "code",
      "source": [
        "#substitution cipher\n",
        "import random\n",
        "import string\n",
        "\n",
        "# Function to generate a random substitution key\n",
        "def generate_key():\n",
        "    alphabet = list(string.ascii_letters + string.digits)\n",
        "    shuffled = alphabet[:]\n",
        "    random.shuffle(shuffled)  # Shuffle to create a random mapping\n",
        "    return dict(zip(alphabet, shuffled)), dict(zip(shuffled, alphabet))  # Encryption & Decryption maps\n",
        "\n",
        "# Function to encrypt a message using substitution cipher\n",
        "def encrypt(message, key):\n",
        "    message = message.upper()\n",
        "    return ''.join(key.get(char, char) for char in message)  # Substitute or keep unchanged\n",
        "\n",
        "# Function to decrypt a message using substitution cipher\n",
        "def decrypt(ciphertext, reverse_key):\n",
        "    return ''.join(reverse_key.get(char, char) for char in ciphertext)\n",
        "\n",
        "# Generate random key mapping\n",
        "key, reverse_key = generate_key()\n",
        "\n",
        "# Get user input\n",
        "message = input(\"Enter message: \")\n",
        "\n",
        "# Encrypt and decrypt\n",
        "encrypted_message = encrypt(message, key)\n",
        "decrypted_message = decrypt(encrypted_message, reverse_key)\n",
        "\n",
        "# Output results\n",
        "print(f\"\\nSubstitution Key:\\n{key}\")\n",
        "print(f\"\\nEncrypted: {encrypted_message}\")\n",
        "print(f\"Decrypted: {decrypted_message}\")\n"
      ],
      "metadata": {
        "colab": {
          "base_uri": "https://localhost:8080/"
        },
        "id": "BE-TG7dYyho9",
        "outputId": "f5c84601-dd61-4c49-e049-b1dad2893a18"
      },
      "execution_count": null,
      "outputs": [
        {
          "output_type": "stream",
          "name": "stdout",
          "text": [
            "Enter message: Sinu1234\n",
            "\n",
            "Substitution Key:\n",
            "{'a': 'r', 'b': 'h', 'c': 'i', 'd': 's', 'e': 'D', 'f': 'p', 'g': 'F', 'h': 'U', 'i': 'B', 'j': 'j', 'k': 'H', 'l': 'X', 'm': '7', 'n': 'W', 'o': 'm', 'p': 'o', 'q': 'R', 'r': 'c', 's': 'k', 't': 'Z', 'u': 'y', 'v': 't', 'w': '5', 'x': 'S', 'y': '9', 'z': 'J', 'A': '0', 'B': 'w', 'C': 'b', 'D': 'C', 'E': 'K', 'F': '3', 'G': '1', 'H': '6', 'I': 'P', 'J': '8', 'K': 'Y', 'L': 'V', 'M': 'n', 'N': 'f', 'O': '2', 'P': 'u', 'Q': 'L', 'R': 'Q', 'S': 'G', 'T': 'O', 'U': 'A', 'V': '4', 'W': 'q', 'X': 'M', 'Y': 'z', 'Z': 'T', '0': 'I', '1': 'N', '2': 'd', '3': 'g', '4': 'e', '5': 'a', '6': 'v', '7': 'x', '8': 'l', '9': 'E'}\n",
            "\n",
            "Encrypted: GPfANdge\n",
            "Decrypted: SINU1234\n"
          ]
        }
      ]
    },
    {
      "cell_type": "code",
      "source": [],
      "metadata": {
        "id": "-66jBmfkVcQE"
      },
      "execution_count": null,
      "outputs": []
    },
    {
      "cell_type": "code",
      "source": [
        "#transposition cipher\n",
        "import string\n",
        "\n",
        "def encrypt(plain_text, key):\n",
        "    allowed_chars = string.ascii_letters + string.digits  # Allow both alphabets and numbers\n",
        "    filtered_text = ''.join(c for c in plain_text if c in allowed_chars)  # Remove special characters\n",
        "\n",
        "    cipher_text = [''] * key\n",
        "\n",
        "    for col in range(key):\n",
        "        pointer = col\n",
        "        while pointer < len(filtered_text):\n",
        "            cipher_text[col] += filtered_text[pointer]\n",
        "            pointer += key\n",
        "\n",
        "    return ''.join(cipher_text)\n",
        "\n",
        "def decrypt(cipher_text, key):\n",
        "    num_columns = len(cipher_text) // key\n",
        "    num_rows = key\n",
        "    num_shaded_boxes = (num_columns * num_rows) - len(cipher_text)\n",
        "\n",
        "    plain_text = [''] * num_columns\n",
        "    col, row = 0, 0\n",
        "\n",
        "    for symbol in cipher_text:\n",
        "        plain_text[col] += symbol\n",
        "        col += 1\n",
        "\n",
        "        if (col == num_columns) or (col == num_columns - 1 and row >= num_rows - num_shaded_boxes):\n",
        "            col = 0\n",
        "            row += 1\n",
        "\n",
        "    return ''.join(plain_text)\n",
        "\n",
        "# Get user input\n",
        "plain_text = input(\"Enter the text to encrypt (alphabets and numbers only): \")\n",
        "key = int(input(\"Enter the key: \"))\n",
        "\n",
        "# Encrypt the text\n",
        "encrypted_text = encrypt(plain_text, key)\n",
        "print(\"Encrypted Text:\", encrypted_text)\n",
        "\n",
        "# Decrypt the text\n",
        "decrypted_text = decrypt(encrypted_text, key)\n",
        "print(\"Decrypted Text:\", decrypted_text)"
      ],
      "metadata": {
        "id": "ek4MvM-CWr8L",
        "outputId": "41c41c09-fa0c-488a-dc43-47ec64137b71",
        "colab": {
          "base_uri": "https://localhost:8080/"
        }
      },
      "execution_count": null,
      "outputs": [
        {
          "output_type": "stream",
          "name": "stdout",
          "text": [
            "Enter the text to encrypt (alphabets and numbers only): sinjini1234\n",
            "Enter the key: 5\n",
            "Encrypted Text: sn4iin1j2i3\n",
            "Decrypted Text: s4i123ninji\n"
          ]
        }
      ]
    },
    {
      "cell_type": "code",
      "source": [
        "import string\n",
        "\n",
        "# Step 1: Use built-in ASCII uppercase, lowercase letters, and digits\n",
        "ALPHABET = string.ascii_letters + string.digits  # Includes uppercase, lowercase, and numbers\n",
        "\n",
        "# Step 2: Function to encrypt using Caesar Cipher\n",
        "def encrypt(plain_text, key):\n",
        "    cipher_text = \"\"\n",
        "\n",
        "    for char in plain_text:\n",
        "        if char in ALPHABET:  # Process only letters and digits\n",
        "            if char.isupper():\n",
        "                alphabet_subset = string.ascii_uppercase\n",
        "            elif char.islower():\n",
        "                alphabet_subset = string.ascii_lowercase\n",
        "            else:\n",
        "                alphabet_subset = string.digits\n",
        "\n",
        "            plain_numeric = alphabet_subset.index(char)  # Get index of character\n",
        "            cipher_numeric = (plain_numeric + key) % len(alphabet_subset)  # Apply encryption formula\n",
        "            cipher_char = alphabet_subset[cipher_numeric]  # Get encrypted character\n",
        "            cipher_text += cipher_char\n",
        "        else:\n",
        "            cipher_text += char  # Keep non-alphabet characters unchanged\n",
        "\n",
        "    return cipher_text\n",
        "\n",
        "# Step 3: Function to decrypt using Caesar Cipher\n",
        "def decrypt(cipher_text, key):\n",
        "    plain_text = \"\"\n",
        "\n",
        "    for char in cipher_text:\n",
        "        if char in ALPHABET:  # Process only letters and digits\n",
        "            if char.isupper():\n",
        "                alphabet_subset = string.ascii_uppercase\n",
        "            elif char.islower():\n",
        "                alphabet_subset = string.ascii_lowercase\n",
        "            else:\n",
        "                alphabet_subset = string.digits\n",
        "\n",
        "            cipher_numeric = alphabet_subset.index(char)  # Get index of character\n",
        "            plain_numeric = (cipher_numeric - key) % len(alphabet_subset)  # Apply decryption formula\n",
        "            plain_char = alphabet_subset[plain_numeric]  # Get decrypted character\n",
        "            plain_text += plain_char\n",
        "        else:\n",
        "            plain_text += char  # Keep non-alphabet characters unchanged\n",
        "\n",
        "    return plain_text\n",
        "plain_text = input(\"Enter the text to encrypt: \")\n",
        "key = int(input(\"Enter the Caesar cipher key (0-25): \"))\n",
        "\n",
        "# Encrypt the text\n",
        "encrypted_text = encrypt(plain_text, key)\n",
        "print(\"Encrypted Text:\", encrypted_text)\n",
        "\n",
        "# Decrypt the text\n",
        "decrypted_text = decrypt(encrypted_text, key)\n",
        "print(\"Decrypted Text:\", decrypted_text)"
      ],
      "metadata": {
        "colab": {
          "base_uri": "https://localhost:8080/"
        },
        "id": "kNSY571VSFYb",
        "outputId": "fb1e92c3-fda2-4679-dc3e-9c58c9bbb317"
      },
      "execution_count": null,
      "outputs": [
        {
          "output_type": "stream",
          "name": "stdout",
          "text": [
            "Enter the text to encrypt: Sinjini1234\n",
            "Enter the Caesar cipher key (0-25): 3\n",
            "Encrypted Text: Vlqmlql4567\n",
            "Decrypted Text: Sinjini1234\n"
          ]
        }
      ]
    }
  ]
}