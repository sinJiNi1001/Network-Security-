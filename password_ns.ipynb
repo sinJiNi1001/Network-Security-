{
  "cells": [
    {
      "cell_type": "code",
      "execution_count": null,
      "metadata": {
        "colab": {
          "base_uri": "https://localhost:8080/"
        },
        "id": "tdgoNLa-H48p",
        "outputId": "0a2db885-ab6b-4b36-ddb9-a876a9935373"
      },
      "outputs": [
        {
          "name": "stdout",
          "output_type": "stream",
          "text": [
            "Collecting bcrypt\n",
            "  Downloading bcrypt-4.3.0-cp39-abi3-manylinux_2_34_x86_64.whl.metadata (10 kB)\n",
            "Downloading bcrypt-4.3.0-cp39-abi3-manylinux_2_34_x86_64.whl (284 kB)\n",
            "\u001b[?25l   \u001b[90m━━━━━━━━━━━━━━━━━━━━━━━━━━━━━━━━━━━━━━━━\u001b[0m \u001b[32m0.0/284.2 kB\u001b[0m \u001b[31m?\u001b[0m eta \u001b[36m-:--:--\u001b[0m\r\u001b[2K   \u001b[91m━━━━━━━━━━━━━━━━━━━━━━━━\u001b[0m\u001b[91m╸\u001b[0m\u001b[90m━━━━━━━━━━━━━━━\u001b[0m \u001b[32m174.1/284.2 kB\u001b[0m \u001b[31m5.3 MB/s\u001b[0m eta \u001b[36m0:00:01\u001b[0m\r\u001b[2K   \u001b[90m━━━━━━━━━━━━━━━━━━━━━━━━━━━━━━━━━━━━━━━━\u001b[0m \u001b[32m284.2/284.2 kB\u001b[0m \u001b[31m4.9 MB/s\u001b[0m eta \u001b[36m0:00:00\u001b[0m\n",
            "\u001b[?25hInstalling collected packages: bcrypt\n",
            "Successfully installed bcrypt-4.3.0\n",
            "Enter your password: sinu\n",
            "Password Strength: Weak Password (Too short)\n",
            "Password Length: Weak Password (Too short)\n",
            "Password should be between 8 and 13 characters.\n"
          ]
        }
      ],
      "source": [
        "!pip install bcrypt\n",
        "import bcrypt\n",
        "\n",
        "def hash_password(password):\n",
        "    salt = bcrypt.gensalt()\n",
        "    hashed = bcrypt.hashpw(password.encode(), salt)\n",
        "    return hashed\n",
        "\n",
        "def check_password(password, hashed):\n",
        "    return bcrypt.checkpw(password.encode(), hashed)\n",
        "\n",
        "def password_strength(password):\n",
        "    if len(password) < 8:\n",
        "        return \"Weak Password (Too short)\"\n",
        "    elif password.isdigit():\n",
        "        return \"25% Secure\"\n",
        "    elif password.isalnum() and (password.islower() or password.isupper()):\n",
        "        return \"50% Secure\"  # Only letters or numbers, but lacks variety\n",
        "    elif any(c.islower() for c in password) and any(c.isupper() for c in password) and any(c.isdigit() for c in password):\n",
        "        return \"75% Secure\"  # Mix of upper, lower, and numbers, but no special characters\n",
        "    elif any(c.islower() for c in password) and any(c.isupper() for c in password) and any(c.isdigit() for c in password) and any(not c.isalnum() for c in password):\n",
        "        return \"100% Secure (Very Strong)\"  # Fully secure with special character\n",
        "    else:\n",
        "        return \"Weak Password\"\n",
        "\n",
        "\n",
        "def password_length(password):\n",
        "    if len(password) < 8:\n",
        "        return \"Weak Password (Too short)\"\n",
        "    elif len(password) > 13:\n",
        "        return \"Recommended length exceeded\"\n",
        "    else:\n",
        "        return \"Strong Password\"\n",
        "\n",
        "try:\n",
        "    password = input(\"Enter your password: \")  # Taking password input from user\n",
        "    print(\"Password Strength:\", password_strength(password))\n",
        "    print(\"Password Length:\", password_length(password))\n",
        "\n",
        "    if 8 <= len(password) <= 13:\n",
        "        hashed_password = hash_password(password)\n",
        "        print(\"Password stored securely.\")\n",
        "    else:\n",
        "        print(\"Password should be between 8 and 13 characters.\")\n",
        "\n",
        "except Exception as e:\n",
        "    print(\"Error:\", e)\n"
      ]
    },
    {
      "cell_type": "code",
      "execution_count": null,
      "metadata": {
        "colab": {
          "background_save": true,
          "base_uri": "https://localhost:8080/"
        },
        "id": "899BX0JaIkgp",
        "outputId": "ace89ffa-8852-42ff-fd75-0d5229e3e9aa"
      },
      "outputs": [
        {
          "name": "stdout",
          "output_type": "stream",
          "text": [
            "Password Strength: 75% Secure\n",
            "Password not accepted! Please enter a stronger password with a mix of uppercase, lowercase, numbers, and special characters.\n",
            "Password Strength: 50% Secure\n",
            "Password not accepted! Please enter a stronger password with a mix of uppercase, lowercase, numbers, and special characters.\n"
          ]
        }
      ],
      "source": [
        "import bcrypt\n",
        "\n",
        "def hash_password(password):\n",
        "    salt = bcrypt.gensalt()\n",
        "    hashed = bcrypt.hashpw(password.encode(), salt)\n",
        "    return hashed\n",
        "\n",
        "def check_password(password, hashed):\n",
        "    return bcrypt.checkpw(password.encode(), hashed)\n",
        "\n",
        "def password_strength(password):\n",
        "    if len(password) < 8:\n",
        "        return \"Weak Password (Too short)\"\n",
        "    elif password.isdigit():\n",
        "        return \"25% Secure\"\n",
        "    elif password.isalnum() and (password.islower() or password.isupper()):\n",
        "        return \"50% Secure\"  # Only letters or numbers, but lacks variety\n",
        "    elif any(c.islower() for c in password) and any(c.isupper() for c in password) and any(c.isdigit() for c in password):\n",
        "        return \"75% Secure\"  # Mix of upper, lower, and numbers, but no special characters\n",
        "    elif any(c.islower() for c in password) and any(c.isupper() for c in password) and any(c.isdigit() for c in password) and any(c.isalnum() for c in password):\n",
        "        return \"100% Secure\"  # Fully secure with special character\n",
        "    else:\n",
        "        return \"Weak Password\"\n",
        "\n",
        "def password_length(password):\n",
        "    if len(password) < 8:\n",
        "        return \"Weak Password (Too short)\"\n",
        "    elif len(password) > 13:\n",
        "        return \"Recommended length exceeded\"\n",
        "    else:\n",
        "        return \"Strong Password\"\n",
        "\n",
        "while True:\n",
        "    try:\n",
        "        password = input(\"Enter your password: \")\n",
        "        strength = password_strength(password)\n",
        "\n",
        "        print(\"Password Strength:\", strength)\n",
        "\n",
        "        if strength == \"100% Secure\":\n",
        "            hashed_password = hash_password(password)\n",
        "            print(\"Password stored securely.\")\n",
        "            break  # Exit loop once a strong password is entered\n",
        "        else:\n",
        "            print(\"Password not accepted! Please enter a stronger password with a mix of uppercase, lowercase, numbers, and special characters.\")\n",
        "    except Exception as e:\n",
        "        print(\"Error:\", e)\n"
      ]
    }
  ],
  "metadata": {
    "colab": {
      "provenance": []
    },
    "kernelspec": {
      "display_name": "Python 3",
      "name": "python3"
    },
    "language_info": {
      "name": "python"
    }
  },
  "nbformat": 4,
  "nbformat_minor": 0
}