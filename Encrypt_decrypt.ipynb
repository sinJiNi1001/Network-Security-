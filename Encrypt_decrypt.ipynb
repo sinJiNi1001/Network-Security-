{
  "nbformat": 4,
  "nbformat_minor": 0,
  "metadata": {
    "colab": {
      "provenance": []
    },
    "kernelspec": {
      "name": "python3",
      "display_name": "Python 3"
    },
    "language_info": {
      "name": "python"
    }
  },
  "cells": [
    {
      "cell_type": "code",
      "execution_count": null,
      "metadata": {
        "colab": {
          "base_uri": "https://localhost:8080/"
        },
        "id": "6PB4XCZ8yAo4",
        "outputId": "ba2e2a02-3c04-465e-9be7-e96ecc6c3da6"
      },
      "outputs": [
        {
          "output_type": "stream",
          "name": "stdout",
          "text": [
            "Enter text to encrypt: Sinjini \n",
            "Enter encryption key (number): 12\n",
            "Encrypted Text: _uzvuzu,\n",
            "Decrypted Text: Sinjini \n"
          ]
        }
      ],
      "source": [
        "#ref alphabets\n",
        "ALPHABET = \"ABCDEFGHIJKLMNOPQRSTUVWXYZabcdefghijklmnopqrstuvwxyz\"\n",
        "\n",
        "def encrypt(plain_text, key):\n",
        "    encrypted_text = \"\".join(chr(ord(char) + key) for char in plain_text)\n",
        "    return encrypted_text\n",
        "\n",
        "def decrypt(encrypted_text, key):\n",
        "    decrypted_text = \"\".join(chr(ord(char) - key) for char in encrypted_text)\n",
        "    return decrypted_text\n",
        "\n",
        "plain_text = input(\"Enter text to encrypt: \")\n",
        "key = int(input(\"Enter encryption key (number): \"))\n",
        "\n",
        "# Encrypt\n",
        "encrypted_text = encrypt(plain_text, key)\n",
        "print(\"Encrypted Text:\", encrypted_text)\n",
        "\n",
        "# Decrypt\n",
        "decrypted_text = decrypt(encrypted_text, key)\n",
        "print(\"Decrypted Text:\", decrypted_text)\n"
      ]
    },
    {
      "cell_type": "markdown",
      "source": [],
      "metadata": {
        "id": "iuxZ8Y9Qylin"
      }
    }
  ]
}