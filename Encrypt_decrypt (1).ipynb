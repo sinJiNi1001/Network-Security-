{
  "nbformat": 4,
  "nbformat_minor": 0,
  "metadata": {
    "colab": {
      "provenance": []
    },
    "kernelspec": {
      "name": "python3",
      "display_name": "Python 3"
    },
    "language_info": {
      "name": "python"
    }
  },
  "cells": [
    {
      "cell_type": "code",
      "source": [
        "import string\n",
        "\n",
        "# Reference alphabet\n",
        "ALPHABET = string.ascii_letters + string.digits  # A-Z, a-z, 0-9\n",
        "\n",
        "def encrypt(plain_text, key):\n",
        "    encrypted_text = \"\"\n",
        "    for char in plain_text:\n",
        "        if char in ALPHABET:\n",
        "            index = ALPHABET.index(char)\n",
        "            new_index = (index + key) % len(ALPHABET)\n",
        "            encrypted_text += ALPHABET[new_index]\n",
        "        else:\n",
        "            encrypted_text += char  # keep punctuation/spaces unchanged\n",
        "    return encrypted_text\n",
        "\n",
        "def decrypt(encrypted_text, key):\n",
        "    decrypted_text = \"\"\n",
        "    for char in encrypted_text:\n",
        "        if char in ALPHABET:\n",
        "            index = ALPHABET.index(char)\n",
        "            new_index = (index - key) % len(ALPHABET)\n",
        "            decrypted_text += ALPHABET[new_index]\n",
        "        else:\n",
        "            decrypted_text += char\n",
        "    return decrypted_text\n",
        "\n",
        "# Input from user\n",
        "plain_text = input(\"Enter text to encrypt: \")\n",
        "key = int(input(\"Enter encryption key (number): \"))\n",
        "\n",
        "# Encrypt\n",
        "encrypted_text = encrypt(plain_text, key)\n",
        "print(\"Encrypted Text:\", encrypted_text)\n",
        "\n",
        "# Decrypt\n",
        "decrypted_text = decrypt(encrypted_text, key)\n",
        "print(\"Decrypted Text:\", decrypted_text)\n"
      ],
      "metadata": {
        "colab": {
          "base_uri": "https://localhost:8080/"
        },
        "id": "pU9YjvXMKzKV",
        "outputId": "7c65ada1-5ee2-4e4f-853e-a84353c99992"
      },
      "execution_count": 2,
      "outputs": [
        {
          "output_type": "stream",
          "name": "stdout",
          "text": [
            "Enter text to encrypt: Sinjini123\n",
            "Enter encryption key (number): 5\n",
            "Encrypted Text: Xnsonsn678\n",
            "Decrypted Text: Sinjini123\n"
          ]
        }
      ]
    },
    {
      "cell_type": "markdown",
      "source": [],
      "metadata": {
        "id": "iuxZ8Y9Qylin"
      }
    }
  ]
}